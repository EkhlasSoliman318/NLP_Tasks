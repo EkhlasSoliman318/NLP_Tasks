{
  "nbformat": 4,
  "nbformat_minor": 0,
  "metadata": {
    "colab": {
      "name": "Untitled2.ipynb",
      "provenance": [],
      "collapsed_sections": []
    },
    "kernelspec": {
      "name": "python3",
      "display_name": "Python 3"
    },
    "language_info": {
      "name": "python"
    }
  },
  "cells": [
    {
      "cell_type": "code",
      "metadata": {
        "id": "xPdJaqrpWPpQ"
      },
      "source": [
        "#import Reg Ex\n",
        "import re"
      ],
      "execution_count": 3,
      "outputs": []
    },
    {
      "cell_type": "code",
      "metadata": {
        "id": "qs_nyVi6WtT0"
      },
      "source": [
        "#get pattern and matached with list_word[i]\n",
        "count= 0\n",
        "def get_pattern(i):\n",
        "  global count \n",
        "  #RegEx Pattren\n",
        "  pattern = re.compile(r'([a-z]|[a-z]{3,})([a-z]|[a-z]{3,})([a-z][a-z]|[a-z]{3,})([a-z]|[a-z]{3,})')\n",
        "  if re.search(pattern, i):\n",
        "      print(i , \"matched\")\n",
        "      print(\"\\n\")\n",
        "      count+= 1 \n",
        "  else:\n",
        "      print(i , \"not matched\")"
      ],
      "execution_count": null,
      "outputs": []
    },
    {
      "cell_type": "code",
      "metadata": {
        "id": "e5-mtPwGXSCM"
      },
      "source": [
        "#take the streched word\n",
        "streched_word = input(\"Enter the stertched word : \")\n",
        "print(\"\\n\")\n",
        "#Take the list of word \n",
        "words=input(\"Enter the words :  \")\n",
        "list_words = words.split()\n",
        "print(\"\\n\")\n",
        "#RegEx\n",
        "\n",
        "#check len  and lower of str1 and streched_ word \n",
        "if 0 <= len(list_words) and len(list_words)<= 100 and 0 <=len(streched_word) and len(streched_word) <= 100 and streched_word.lower():\n",
        "  for i in list_words:\n",
        "    #check the len(i) > len(streched_word)\n",
        "    if len(i) > len(streched_word):\n",
        "        print(\"The stretched word is smaller than the word in the list\")\n",
        "        print(\"\\n\")\n",
        "    elif 0 <= len(i) and len(i)<= 100 and i.lower(): \n",
        "          get_pattern(i)\n",
        "          print(\"\\n\")\n",
        "print('The number of sucess match' , count)"
      ],
      "execution_count": null,
      "outputs": []
    }
  ]
}